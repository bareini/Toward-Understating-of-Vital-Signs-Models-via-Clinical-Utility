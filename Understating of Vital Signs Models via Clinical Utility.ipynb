{
 "cells": [
  {
   "cell_type": "code",
   "execution_count": 1,
   "metadata": {},
   "outputs": [
    {
     "name": "stderr",
     "output_type": "stream",
     "text": [
      "/home/rom/.local/lib/python3.6/site-packages/statsmodels/tools/_testing.py:19: FutureWarning: pandas.util.testing is deprecated. Use the functions in the public API at pandas.testing instead.\n",
      "  import pandas.util.testing as tm\n"
     ]
    }
   ],
   "source": [
    "import os\n",
    "import glob\n",
    "from collections import OrderedDict\n",
    "\n",
    "import numpy as np\n",
    "import pandas as pd\n",
    "import pickle as pkl\n",
    "import matplotlib.pyplot as plt\n",
    "import seaborn as sns\n",
    "from statsmodels.tsa.holtwinters import Holt\n",
    "\n"
   ]
  },
  {
   "cell_type": "code",
   "execution_count": 2,
   "metadata": {},
   "outputs": [],
   "source": [
    "%load_ext autoreload\n",
    "%autoreload 1\n",
    "%aimport summary.utils\n",
    "# from summary import utils\n"
   ]
  },
  {
   "cell_type": "code",
   "execution_count": 3,
   "metadata": {},
   "outputs": [],
   "source": [
    "# from pathlib import Path\n",
    "\n",
    "# def de_norm(pred, criteria):\n",
    "    \n",
    "#     df_std = pd.read_pickle(os.path.join(Path(os.getcwd()).parents[0],'df_std.pkl'))\n",
    "#     df_mean = pd.read_pickle(os.path.join(Path(os.getcwd()).parents[0],'df_mean.pkl'))\n",
    "#     std = df_std[criteria]\n",
    "#     mean = df_mean[criteria]\n",
    "    \n",
    "#     return (pred * std) + mean"
   ]
  },
  {
   "cell_type": "markdown",
   "metadata": {},
   "source": [
    "# Load Data"
   ]
  },
  {
   "cell_type": "code",
   "execution_count": 3,
   "metadata": {},
   "outputs": [],
   "source": [
    "# Data to play with\n",
    "\n",
    "c_type = 'step'\n",
    "imp = 'mice'\n",
    "inter = 'nointer'\n",
    "i= 0\n",
    "\n",
    "base_dir = os.path.abspath(os.getcwd())\n",
    "\n",
    "dirpath = os.path.join(base_dir, 'data')\n",
    "y_test_30 = pd.read_pickle(os.path.join(dirpath, f\"Y_{c_type}_30_test_{imp}_{inter}_{i}.pkl\"))\n",
    "X_test_30 = pd.read_pickle(os.path.join(dirpath, f\"X_{c_type}_30_test_{imp}_{inter}_{i}.pkl\"))"
   ]
  },
  {
   "cell_type": "code",
   "execution_count": 4,
   "metadata": {},
   "outputs": [
    {
     "ename": "AttributeError",
     "evalue": "'DataFrame' object has no attribute '_data'",
     "output_type": "error",
     "traceback": [
      "\u001B[0;31m---------------------------------------------------------------------------\u001B[0m",
      "\u001B[0;31mAttributeError\u001B[0m                            Traceback (most recent call last)",
      "\u001B[0;32m<ipython-input-4-1f5cd0576eef>\u001B[0m in \u001B[0;36m<module>\u001B[0;34m\u001B[0m\n\u001B[1;32m      1\u001B[0m \u001B[0mtr_dict\u001B[0m \u001B[0;34m=\u001B[0m \u001B[0mOrderedDict\u001B[0m\u001B[0;34m(\u001B[0m\u001B[0;34m)\u001B[0m\u001B[0;34m\u001B[0m\u001B[0;34m\u001B[0m\u001B[0m\n\u001B[0;32m----> 2\u001B[0;31m \u001B[0mX_test_30\u001B[0m\u001B[0;34m[\u001B[0m\u001B[0;34m'y_test_30'\u001B[0m\u001B[0;34m]\u001B[0m  \u001B[0;34m=\u001B[0m \u001B[0my_test_30\u001B[0m\u001B[0;34m[\u001B[0m\u001B[0;34m'sys_30'\u001B[0m\u001B[0;34m]\u001B[0m\u001B[0;34m\u001B[0m\u001B[0;34m\u001B[0m\u001B[0m\n\u001B[0m\u001B[1;32m      3\u001B[0m \u001B[0mids\u001B[0m \u001B[0;34m=\u001B[0m \u001B[0mX_test_30\u001B[0m\u001B[0;34m[\u001B[0m\u001B[0;34m'hadm_id'\u001B[0m\u001B[0;34m]\u001B[0m\u001B[0;34m.\u001B[0m\u001B[0munique\u001B[0m\u001B[0;34m(\u001B[0m\u001B[0;34m)\u001B[0m\u001B[0;34m\u001B[0m\u001B[0;34m\u001B[0m\u001B[0m\n\u001B[1;32m      4\u001B[0m \u001B[0;34m\u001B[0m\u001B[0m\n\u001B[1;32m      5\u001B[0m \u001B[0;32mfor\u001B[0m \u001B[0midx\u001B[0m \u001B[0;32min\u001B[0m \u001B[0mids\u001B[0m\u001B[0;34m:\u001B[0m\u001B[0;34m\u001B[0m\u001B[0;34m\u001B[0m\u001B[0m\n",
      "\u001B[0;32m~/.local/lib/python3.6/site-packages/pandas/core/frame.py\u001B[0m in \u001B[0;36m__getitem__\u001B[0;34m(self, key)\u001B[0m\n\u001B[1;32m   2771\u001B[0m         \u001B[0;32mif\u001B[0m \u001B[0mis_hashable\u001B[0m\u001B[0;34m(\u001B[0m\u001B[0mkey\u001B[0m\u001B[0;34m)\u001B[0m\u001B[0;34m:\u001B[0m\u001B[0;34m\u001B[0m\u001B[0;34m\u001B[0m\u001B[0m\n\u001B[1;32m   2772\u001B[0m             \u001B[0;31m# shortcut if the key is in columns\u001B[0m\u001B[0;34m\u001B[0m\u001B[0;34m\u001B[0m\u001B[0;34m\u001B[0m\u001B[0m\n\u001B[0;32m-> 2773\u001B[0;31m             \u001B[0;32mif\u001B[0m \u001B[0mself\u001B[0m\u001B[0;34m.\u001B[0m\u001B[0mcolumns\u001B[0m\u001B[0;34m.\u001B[0m\u001B[0mis_unique\u001B[0m \u001B[0;32mand\u001B[0m \u001B[0mkey\u001B[0m \u001B[0;32min\u001B[0m \u001B[0mself\u001B[0m\u001B[0;34m.\u001B[0m\u001B[0mcolumns\u001B[0m\u001B[0;34m:\u001B[0m\u001B[0;34m\u001B[0m\u001B[0;34m\u001B[0m\u001B[0m\n\u001B[0m\u001B[1;32m   2774\u001B[0m                 \u001B[0;32mif\u001B[0m \u001B[0mself\u001B[0m\u001B[0;34m.\u001B[0m\u001B[0mcolumns\u001B[0m\u001B[0;34m.\u001B[0m\u001B[0mnlevels\u001B[0m \u001B[0;34m>\u001B[0m \u001B[0;36m1\u001B[0m\u001B[0;34m:\u001B[0m\u001B[0;34m\u001B[0m\u001B[0;34m\u001B[0m\u001B[0m\n\u001B[1;32m   2775\u001B[0m                     \u001B[0;32mreturn\u001B[0m \u001B[0mself\u001B[0m\u001B[0;34m.\u001B[0m\u001B[0m_getitem_multilevel\u001B[0m\u001B[0;34m(\u001B[0m\u001B[0mkey\u001B[0m\u001B[0;34m)\u001B[0m\u001B[0;34m\u001B[0m\u001B[0;34m\u001B[0m\u001B[0m\n",
      "\u001B[0;32m~/.local/lib/python3.6/site-packages/pandas/core/generic.py\u001B[0m in \u001B[0;36m__getattr__\u001B[0;34m(self, name)\u001B[0m\n\u001B[1;32m   5268\u001B[0m             \u001B[0;32mor\u001B[0m \u001B[0mname\u001B[0m \u001B[0;32min\u001B[0m \u001B[0mself\u001B[0m\u001B[0;34m.\u001B[0m\u001B[0m_accessors\u001B[0m\u001B[0;34m\u001B[0m\u001B[0;34m\u001B[0m\u001B[0m\n\u001B[1;32m   5269\u001B[0m         ):\n\u001B[0;32m-> 5270\u001B[0;31m             \u001B[0;32mreturn\u001B[0m \u001B[0mobject\u001B[0m\u001B[0;34m.\u001B[0m\u001B[0m__getattribute__\u001B[0m\u001B[0;34m(\u001B[0m\u001B[0mself\u001B[0m\u001B[0;34m,\u001B[0m \u001B[0mname\u001B[0m\u001B[0;34m)\u001B[0m\u001B[0;34m\u001B[0m\u001B[0;34m\u001B[0m\u001B[0m\n\u001B[0m\u001B[1;32m   5271\u001B[0m         \u001B[0;32melse\u001B[0m\u001B[0;34m:\u001B[0m\u001B[0;34m\u001B[0m\u001B[0;34m\u001B[0m\u001B[0m\n\u001B[1;32m   5272\u001B[0m             \u001B[0;32mif\u001B[0m \u001B[0mself\u001B[0m\u001B[0;34m.\u001B[0m\u001B[0m_info_axis\u001B[0m\u001B[0;34m.\u001B[0m\u001B[0m_can_hold_identifiers_and_holds_name\u001B[0m\u001B[0;34m(\u001B[0m\u001B[0mname\u001B[0m\u001B[0;34m)\u001B[0m\u001B[0;34m:\u001B[0m\u001B[0;34m\u001B[0m\u001B[0;34m\u001B[0m\u001B[0m\n",
      "\u001B[0;32mpandas/_libs/properties.pyx\u001B[0m in \u001B[0;36mpandas._libs.properties.AxisProperty.__get__\u001B[0;34m()\u001B[0m\n",
      "\u001B[0;32m~/.local/lib/python3.6/site-packages/pandas/core/generic.py\u001B[0m in \u001B[0;36m__getattr__\u001B[0;34m(self, name)\u001B[0m\n\u001B[1;32m   5268\u001B[0m             \u001B[0;32mor\u001B[0m \u001B[0mname\u001B[0m \u001B[0;32min\u001B[0m \u001B[0mself\u001B[0m\u001B[0;34m.\u001B[0m\u001B[0m_accessors\u001B[0m\u001B[0;34m\u001B[0m\u001B[0;34m\u001B[0m\u001B[0m\n\u001B[1;32m   5269\u001B[0m         ):\n\u001B[0;32m-> 5270\u001B[0;31m             \u001B[0;32mreturn\u001B[0m \u001B[0mobject\u001B[0m\u001B[0;34m.\u001B[0m\u001B[0m__getattribute__\u001B[0m\u001B[0;34m(\u001B[0m\u001B[0mself\u001B[0m\u001B[0;34m,\u001B[0m \u001B[0mname\u001B[0m\u001B[0;34m)\u001B[0m\u001B[0;34m\u001B[0m\u001B[0;34m\u001B[0m\u001B[0m\n\u001B[0m\u001B[1;32m   5271\u001B[0m         \u001B[0;32melse\u001B[0m\u001B[0;34m:\u001B[0m\u001B[0;34m\u001B[0m\u001B[0;34m\u001B[0m\u001B[0m\n\u001B[1;32m   5272\u001B[0m             \u001B[0;32mif\u001B[0m \u001B[0mself\u001B[0m\u001B[0;34m.\u001B[0m\u001B[0m_info_axis\u001B[0m\u001B[0;34m.\u001B[0m\u001B[0m_can_hold_identifiers_and_holds_name\u001B[0m\u001B[0;34m(\u001B[0m\u001B[0mname\u001B[0m\u001B[0;34m)\u001B[0m\u001B[0;34m:\u001B[0m\u001B[0;34m\u001B[0m\u001B[0;34m\u001B[0m\u001B[0m\n",
      "\u001B[0;31mAttributeError\u001B[0m: 'DataFrame' object has no attribute '_data'"
     ]
    }
   ],
   "source": [
    "tr_dict = OrderedDict()\n",
    "X_test_30['y_test_30']  = y_test_30['sys_30']\n",
    "ids = X_test_30['hadm_id'].unique()\n",
    "\n",
    "for idx in ids:\n",
    "    tr_dict[idx] = X_test_30.loc[X_test_30.hadm_id == idx, 'y_test_30'].values"
   ]
  },
  {
   "cell_type": "markdown",
   "metadata": {},
   "source": [
    "## Normal Range\n",
    "\n",
    "A naive step function implementation for samples that exceed the thersholds. For Sys thersholds are set to [90,180] to address hypotension and severe hypertension."
   ]
  },
  {
   "cell_type": "code",
   "execution_count": 78,
   "metadata": {},
   "outputs": [],
   "source": [
    "un = {}\n",
    "\n",
    "for k,v in tr_dict.items():\n",
    "    un[k] = utils.f_norm_naive_sys(v)"
   ]
  },
  {
   "cell_type": "code",
   "execution_count": 15,
   "metadata": {},
   "outputs": [
    {
     "data": {
      "text/plain": [
       "array([156.03078887, 156.01701018, 151.05291772, ..., 157.80706512,\n",
       "       157.58100312, 158.01372649])"
      ]
     },
     "execution_count": 15,
     "metadata": {},
     "output_type": "execute_result"
    }
   ],
   "source": [
    "# get pred data\n",
    "\n",
    "# file = open(os.path.join(os.getcwd(), 'scatters','30_mice.pkl'), 'rb')\n",
    "with open(os.path.join(base_dir, dirpath, '30_mice.pkl'), 'rb') as file:\n",
    "    sct = pkl.load(file)\n",
    "ridge_test_30 = sct['30_bp_step_nointer_mice_ridge'][0]['pred_test']\n",
    "xbg_test_30 = sct['30_bp_step_nointer_mice_ridge'][0]['pred_test']\n",
    "\n",
    "ridge_test_30"
   ]
  },
  {
   "cell_type": "code",
   "execution_count": 96,
   "metadata": {},
   "outputs": [],
   "source": [
    "pred_tr_dict = OrderedDict()\n",
    "X = X_test_30.copy()\n",
    "X['y_test_30']  = ridge_test_30\n",
    "\n",
    "for idx in ids:\n",
    "    pred_tr_dict[idx] = X.loc[X.hadm_id == idx, 'y_test_30'].values"
   ]
  },
  {
   "cell_type": "code",
   "execution_count": 97,
   "metadata": {},
   "outputs": [
    {
     "name": "stderr",
     "output_type": "stream",
     "text": [
      "/home/bar/.local/lib/python3.6/site-packages/statsmodels/tsa/holtwinters/model.py:429: FutureWarning: After 0.13 initialization must be handled at model creation\n",
      "  FutureWarning,\n",
      "/home/bar/.local/lib/python3.6/site-packages/statsmodels/tsa/holtwinters/model.py:1439: RuntimeWarning: divide by zero encountered in log\n",
      "  aic = self.nobs * np.log(sse / self.nobs) + k * 2\n",
      "/home/bar/.local/lib/python3.6/site-packages/statsmodels/tsa/holtwinters/model.py:1444: RuntimeWarning: invalid value encountered in double_scalars\n",
      "  aicc = aic + aicc_penalty\n",
      "/home/bar/.local/lib/python3.6/site-packages/statsmodels/tsa/holtwinters/model.py:1445: RuntimeWarning: divide by zero encountered in log\n",
      "  bic = self.nobs * np.log(sse / self.nobs) + k * np.log(self.nobs)\n"
     ]
    }
   ],
   "source": [
    "# pred_trends_dict = utils.trend(pred_tr_dict)\n",
    "# pred_trends_dict_new, distance_dict, res_dict = utils.get_trend(pred_tr_dict, True)\n"
   ]
  },
  {
   "cell_type": "code",
   "execution_count": 98,
   "metadata": {},
   "outputs": [],
   "source": [
    "un_pred = {}\n",
    "\n",
    "for k,v in pred_tr_dict.items():\n",
    "    un_pred[k] = utils.f_norm_naive_sys(v)"
   ]
  },
  {
   "cell_type": "markdown",
   "metadata": {},
   "source": [
    "# Normal Range Evaluation Measures\n",
    "\n",
    "\\begin{equation}\n",
    "\\begin{split}\n",
    "    \\frac{1}{n}\\sum_{i}\\max\\left(0, (|f_{norm}\\left(y_i\\right)| - |f_{norm}\\left(y^{pred}_i\\right)\\right|) + \\max(0, -sign(f_{norm}(y_i) \\cdot sign(f_{norm}(y^{pred}_i))\\\\\n",
    "    \\frac{1}{n}\\sum_{i}\\max\\left(0, |f_{norm}\\left(y^{pred}_i\\right)| - |f_{norm}\\left(y_i\\right)\\right|) + \\max(0, -sign(f_{norm}(y_i)) \\cdot sign(f_{norm}(y^{pred}_i))\n",
    "\\end{split}\n",
    "\\end{equation}"
   ]
  },
  {
   "cell_type": "code",
   "execution_count": 113,
   "metadata": {},
   "outputs": [
    {
     "name": "stdout",
     "output_type": "stream",
     "text": [
      "missing important: 0.0\n",
      "false alarm: 0.8480776341104778\n"
     ]
    }
   ],
   "source": [
    "# consider making it per patient as well\n",
    "\n",
    "print(f'missing important: {utils.f_norm_eval(un, un_pred)}')\n",
    "print(f'false alarm: {utils.f_norm_eval(un_pred, un)}')\n"
   ]
  },
  {
   "cell_type": "markdown",
   "metadata": {},
   "source": [
    "## Trend Utility\n",
    "\n",
    "According to distance from Holt ES naive prediction."
   ]
  },
  {
   "cell_type": "code",
   "execution_count": 77,
   "metadata": {},
   "outputs": [
    {
     "name": "stderr",
     "output_type": "stream",
     "text": [
      "/home/bar/.local/lib/python3.6/site-packages/statsmodels/tsa/holtwinters/model.py:429: FutureWarning: After 0.13 initialization must be handled at model creation\n",
      "  FutureWarning,\n",
      "/home/bar/.local/lib/python3.6/site-packages/statsmodels/tsa/holtwinters/model.py:1439: RuntimeWarning: divide by zero encountered in log\n",
      "  aic = self.nobs * np.log(sse / self.nobs) + k * 2\n",
      "/home/bar/.local/lib/python3.6/site-packages/statsmodels/tsa/holtwinters/model.py:1444: RuntimeWarning: invalid value encountered in double_scalars\n",
      "  aicc = aic + aicc_penalty\n",
      "/home/bar/.local/lib/python3.6/site-packages/statsmodels/tsa/holtwinters/model.py:1445: RuntimeWarning: divide by zero encountered in log\n",
      "  bic = self.nobs * np.log(sse / self.nobs) + k * np.log(self.nobs)\n"
     ]
    }
   ],
   "source": [
    "trends_dict = utils.trend(tr_dict)\n",
    "trends_dict_new, res_dict = utils.get_trend(tr_dict, True)"
   ]
  },
  {
   "cell_type": "markdown",
   "metadata": {},
   "source": [
    "# Trend Based Evaluation\n",
    "\n",
    "\n",
    "\\begin{equation}\n",
    "\\begin{split}\n",
    "    W_{g}(y_i)\\cdot |y_i - y^{pred}_i|\\\\\n",
    "    W_{g}(y^{pred}_i)\\cdot |y_i - y^{pred}_i|\n",
    "\\end{split}\n",
    "\\end{equation}\n"
   ]
  },
  {
   "cell_type": "code",
   "execution_count": null,
   "metadata": {},
   "outputs": [],
   "source": [
    "g_norm_true = utils.get_g_norm(tr_dict, trends_dict)\n",
    "g_norm_pred = utils.get_g_norm(pred_tr_dict, trends_dict)"
   ]
  },
  {
   "cell_type": "code",
   "execution_count": 115,
   "metadata": {},
   "outputs": [
    {
     "name": "stdout",
     "output_type": "stream",
     "text": [
      "u_max: 1.6043447911875044\n",
      "u_max_pred: 1.6043447911875044\n"
     ]
    }
   ],
   "source": [
    "# Calc Weights\n",
    "\n",
    "# holt_values = [v for k,v in trends_dict.items()]\n",
    "\n",
    "# u_max = max(np.hstack(values))\n",
    "# print(f'u_max: {u_max}')\n",
    "\n",
    "# values = [v for k,v in pred_trends_dict.items()]\n",
    "# u_max_pred = max(np.hstack(values))\n",
    "# print(f'u_max_pred: {u_max_pred}')\n",
    "\n",
    "\n",
    "# calculate weights\n",
    "# weights = {k:v/u_max for k,v in trends_dict.items()}\n",
    "# weights_pred = {k:v/u_max for k,v in pred_trends_dict.items()}"
   ]
  },
  {
   "cell_type": "markdown",
   "metadata": {},
   "source": [
    "### Consider checking if we need to denorm them before this code"
   ]
  },
  {
   "cell_type": "code",
   "execution_count": 131,
   "metadata": {},
   "outputs": [
    {
     "name": "stdout",
     "output_type": "stream",
     "text": [
      "missing important: 0.41214923001573267\n",
      "false alarm: 0.41214923001573267\n"
     ]
    }
   ],
   "source": [
    "w_trend_true, w_trend_pred = utils.w_trend(tr_dict, pred_tr_dict, g_norm_true, g_norm_pred)\n",
    "\n",
    "# print(f'missing important: {w_trend(un, un_pred, weights)}')\n",
    "# print(f'false alarm: {w_trend(un_pred, un, weights_pred)}')\n",
    "\n",
    "print(f'missing important: {utils.mean_metric_score(w_trend_true)}')\n",
    "print(f'false alarm: {utils.mean_metric_score(w_trend_pred)}')"
   ]
  },
  {
   "cell_type": "code",
   "execution_count": 132,
   "metadata": {},
   "outputs": [],
   "source": [
    "# pref_dict= {'Normal Range Deviation Miss':f_norm_eval(un, un_pred),\\\n",
    "#             'Normal Range Deviation False Alarm':f_norm_eval(un_pred, un),\\\n",
    "#            'Trend Deviation Miss': w_trend(un, un_pred, weights),\\\n",
    "#             'Trend Deviation False Alarm': w_trend(un_pred, un, weights_pred)}\n",
    "\n",
    "\n",
    "pref_dict= {'Normal Range Deviation Miss':f_norm_eval(un, un_pred),\\\n",
    "            'Normal Range Deviation False Alarm':f_norm_eval(un_pred, un),\\\n",
    "           'Trend Deviation Miss': utils.w_trend_score(w_trend_true),\\\n",
    "            'Trend Deviation False Alarm':utils.w_trend_score(w_trend_pred)}"
   ]
  },
  {
   "cell_type": "code",
   "execution_count": 133,
   "metadata": {},
   "outputs": [
    {
     "data": {
      "text/html": [
       "<div>\n",
       "<style scoped>\n",
       "    .dataframe tbody tr th:only-of-type {\n",
       "        vertical-align: middle;\n",
       "    }\n",
       "\n",
       "    .dataframe tbody tr th {\n",
       "        vertical-align: top;\n",
       "    }\n",
       "\n",
       "    .dataframe thead th {\n",
       "        text-align: right;\n",
       "    }\n",
       "</style>\n",
       "<table border=\"1\" class=\"dataframe\">\n",
       "  <thead>\n",
       "    <tr style=\"text-align: right;\">\n",
       "      <th></th>\n",
       "      <th>Normal Range Deviation Miss</th>\n",
       "      <th>Normal Range Deviation False Alarm</th>\n",
       "      <th>Trend Deviation Miss</th>\n",
       "      <th>Trend Deviation False Alarm</th>\n",
       "    </tr>\n",
       "  </thead>\n",
       "  <tbody>\n",
       "    <tr>\n",
       "      <th>1</th>\n",
       "      <td>0.0</td>\n",
       "      <td>0.848</td>\n",
       "      <td>0.412</td>\n",
       "      <td>0.412</td>\n",
       "    </tr>\n",
       "  </tbody>\n",
       "</table>\n",
       "</div>"
      ],
      "text/plain": [
       "   Normal Range Deviation Miss  Normal Range Deviation False Alarm  \\\n",
       "1                          0.0                               0.848   \n",
       "\n",
       "   Trend Deviation Miss  Trend Deviation False Alarm  \n",
       "1                 0.412                        0.412  "
      ]
     },
     "execution_count": 133,
     "metadata": {},
     "output_type": "execute_result"
    }
   ],
   "source": [
    "pd.DataFrame(pref_dict, index=[1]).round(3)"
   ]
  }
 ],
 "metadata": {
  "kernelspec": {
   "display_name": "Python 3",
   "language": "python",
   "name": "python3"
  },
  "language_info": {
   "codemirror_mode": {
    "name": "ipython",
    "version": 3
   },
   "file_extension": ".py",
   "mimetype": "text/x-python",
   "name": "python",
   "nbconvert_exporter": "python",
   "pygments_lexer": "ipython3",
   "version": "3.6.9"
  }
 },
 "nbformat": 4,
 "nbformat_minor": 4
}