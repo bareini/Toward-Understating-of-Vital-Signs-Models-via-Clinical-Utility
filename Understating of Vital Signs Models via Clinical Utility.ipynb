{
 "cells": [
  {
   "cell_type": "code",
   "execution_count": 172,
   "metadata": {
    "pycharm": {
     "is_executing": false
    }
   },
   "outputs": [],
   "source": [
    "import os\n",
    "import glob\n",
    "from collections import OrderedDict\n",
    "\n",
    "import numpy as np\n",
    "import pandas as pd\n",
    "import pickle as pkl\n",
    "import matplotlib.pyplot as plt\n",
    "import seaborn as sns\n",
    "from statsmodels.tsa.holtwinters import Holt\n",
    "import seaborn as sns\n",
    "\n",
    "from sklearn.metrics import mean_squared_error"
   ]
  },
  {
   "cell_type": "code",
   "execution_count": 2,
   "metadata": {
    "pycharm": {
     "is_executing": false
    }
   },
   "outputs": [],
   "source": [
    "%load_ext autoreload\n",
    "%autoreload 1\n",
    "%aimport summary.utils\n",
    "from summary import utils\n"
   ]
  },
  {
   "cell_type": "code",
   "execution_count": 3,
   "metadata": {},
   "outputs": [],
   "source": [
    "# from pathlib import Path\n",
    "\n",
    "# def de_norm(pred, criteria):\n",
    "    \n",
    "#     df_std = pd.read_pickle(os.path.join(Path(os.getcwd()).parents[0],'df_std.pkl'))\n",
    "#     df_mean = pd.read_pickle(os.path.join(Path(os.getcwd()).parents[0],'df_mean.pkl'))\n",
    "#     std = df_std[criteria]\n",
    "#     mean = df_mean[criteria]\n",
    "    \n",
    "#     return (pred * std) + mean"
   ]
  },
  {
   "cell_type": "markdown",
   "metadata": {},
   "source": [
    "# Load Data"
   ]
  },
  {
   "cell_type": "code",
   "execution_count": 178,
   "metadata": {
    "pycharm": {
     "is_executing": false
    }
   },
   "outputs": [],
   "source": [
    "# Data to play with\n",
    "\n",
    "c_type = 'step'\n",
    "imp = 'mice'\n",
    "inter = 'nointer'\n",
    "i= 0\n",
    "\n",
    "base_dir = os.path.abspath(os.getcwd())\n",
    "\n",
    "dirpath = os.path.join(base_dir, 'data')\n",
    "y_test_30 = pd.read_pickle(os.path.join(dirpath, f\"Y_{c_type}_30_test_{imp}_{inter}_{i}.pkl\"))\n",
    "X_test_30 = pd.read_pickle(os.path.join(dirpath, f\"X_{c_type}_30_test_{imp}_{inter}_{i}.pkl\"))\n",
    "\n",
    "y_test_30 = utils.de_norm(y_test_30, criteria = 'P_sys_q0.5')"
   ]
  },
  {
   "cell_type": "code",
   "execution_count": 96,
   "metadata": {
    "pycharm": {
     "is_executing": false
    }
   },
   "outputs": [],
   "source": [
    "tr_dict = OrderedDict()\n",
    "X_test_30['y_test_30']  = y_test_30['sys_30']\n",
    "ids = X_test_30['hadm_id'].unique()\n",
    "\n",
    "for idx in ids:\n",
    "    tr_dict[idx] = utils.de_norm(X_test_30.loc[X_test_30.hadm_id == idx, 'y_test_30'].values, criteria='P_sys_q0.5')"
   ]
  },
  {
   "cell_type": "markdown",
   "metadata": {},
   "source": [
    "## Normal Range\n",
    "\n",
    "A naive step function implementation for samples that exceed the thersholds. For Sys thersholds are set to [90,180] to address hypotension and severe hypertension."
   ]
  },
  {
   "cell_type": "code",
   "execution_count": 98,
   "metadata": {
    "pycharm": {
     "is_executing": false
    }
   },
   "outputs": [],
   "source": [
    "un = {}\n",
    "\n",
    "for k,v in tr_dict.items():\n",
    "    un[k] = utils.f_norm_naive_sys(v)"
   ]
  },
  {
   "cell_type": "code",
   "execution_count": 139,
   "metadata": {},
   "outputs": [
    {
     "data": {
      "text/plain": [
       "array([False, False, False, ..., False, False, False])"
      ]
     },
     "execution_count": 139,
     "metadata": {},
     "output_type": "execute_result"
    }
   ],
   "source": [
    "# get pred data\n",
    "\n",
    "# file = open(os.path.join(os.getcwd(), 'scatters','30_mice.pkl'), 'rb')\n",
    "with open(os.path.join(base_dir, dirpath, '30_mice.pkl'), 'rb') as file:\n",
    "    sct = pkl.load(file)\n",
    "ridge_test_30 = sct['30_bp_step_nointer_mice_ridge'][0]['pred_test']\n",
    "xbg_test_30 = sct['30_bp_step_nointer_mice_xgb'][0]['pred_test']\n",
    "ridge_test_30 == xbg_test_30"
   ]
  },
  {
   "cell_type": "code",
   "execution_count": 187,
   "metadata": {},
   "outputs": [],
   "source": [
    "pred_tr_dict = OrderedDict()\n",
    "pred_tr_dict['Ridge'] = dict()\n",
    "pred_tr_dict['XGBoost'] = dict()\n",
    "pred_tr_dict['Naive'] = dict()\n",
    "\n",
    "X = X_test_30.copy()\n",
    "\n",
    "X['y_test_30']  = ridge_test_30\n",
    "X['y_test_30_xgb']  = xbg_test_30\n",
    "\n",
    "for idx in ids:\n",
    "    pred_tr_dict['Ridge'][idx] = X.loc[X.hadm_id == idx, 'y_test_30'].values\n",
    "    pred_tr_dict['XGBoost'][idx] = X.loc[X.hadm_id == idx, 'y_test_30_xgb'].values\n",
    "    pred_tr_dict['Naive'][idx] = utils.de_norm(X.loc[X.hadm_id == idx, 'P_sys_q0.5'].values, 'P_sys_q0.5')"
   ]
  },
  {
   "cell_type": "code",
   "execution_count": 141,
   "metadata": {},
   "outputs": [],
   "source": [
    "# pred_trends_dict = utils.trend(pred_tr_dict)\n",
    "# pred_trends_dict_new, distance_dict, res_dict = utils.get_trend(pred_tr_dict, True)\n"
   ]
  },
  {
   "cell_type": "code",
   "execution_count": 188,
   "metadata": {},
   "outputs": [],
   "source": [
    "un_pred = {}\n",
    "un_pred['Ridge'] = dict()\n",
    "un_pred['XGBoost'] = dict()\n",
    "un_pred['Naive'] = dict()\n",
    "\n",
    "for model in pred_tr_dict.keys():\n",
    "    for k,v in pred_tr_dict[model].items():\n",
    "        un_pred[model][k] = utils.f_norm_naive_sys(v)"
   ]
  },
  {
   "cell_type": "markdown",
   "metadata": {},
   "source": [
    "# Normal Range Evaluation Measures\n",
    "\n",
    "\\begin{equation}\n",
    "\\begin{split}\n",
    "    \\frac{1}{n}\\sum_{i}\\max\\left(0, (|f_{norm}\\left(y_i\\right)| - |f_{norm}\\left(y^{pred}_i\\right)\\right|) + \\max(0, -sign(f_{norm}(y_i) \\cdot sign(f_{norm}(y^{pred}_i))\\\\\n",
    "    \\frac{1}{n}\\sum_{i}\\max\\left(0, |f_{norm}\\left(y^{pred}_i\\right)| - |f_{norm}\\left(y_i\\right)\\right|) + \\max(0, -sign(f_{norm}(y_i)) \\cdot sign(f_{norm}(y^{pred}_i))\n",
    "\\end{split}\n",
    "\\end{equation}"
   ]
  },
  {
   "cell_type": "code",
   "execution_count": 189,
   "metadata": {},
   "outputs": [
    {
     "name": "stdout",
     "output_type": "stream",
     "text": [
      "missing important: 0.03214765153133425\n",
      "false alarm: 0.012732584709991158\n"
     ]
    }
   ],
   "source": [
    "# consider making it per patient as well\n",
    "\n",
    "model = 'XGBoost'\n",
    "\n",
    "print(f'missing important: {utils.f_norm_eval(un, un_pred[model])}')\n",
    "print(f'false alarm: {utils.f_norm_eval(un_pred[model], un)}')\n"
   ]
  },
  {
   "cell_type": "markdown",
   "metadata": {},
   "source": [
    "## Trend Utility\n",
    "\n",
    "According to distance from Holt ES naive prediction."
   ]
  },
  {
   "cell_type": "code",
   "execution_count": 190,
   "metadata": {},
   "outputs": [
    {
     "name": "stderr",
     "output_type": "stream",
     "text": [
      "/home/bar/.local/lib/python3.6/site-packages/sklearn/utils/deprecation.py:86: FutureWarning: Function trend is deprecated; This is old version. Don't Use!\n",
      "  warnings.warn(msg, category=FutureWarning)\n",
      "/home/bar/.local/lib/python3.6/site-packages/statsmodels/tsa/holtwinters/model.py:429: FutureWarning: After 0.13 initialization must be handled at model creation\n",
      "  FutureWarning,\n",
      "/home/bar/.local/lib/python3.6/site-packages/statsmodels/tsa/holtwinters/model.py:1439: RuntimeWarning: divide by zero encountered in log\n",
      "  aic = self.nobs * np.log(sse / self.nobs) + k * 2\n",
      "/home/bar/.local/lib/python3.6/site-packages/statsmodels/tsa/holtwinters/model.py:1444: RuntimeWarning: invalid value encountered in double_scalars\n",
      "  aicc = aic + aicc_penalty\n",
      "/home/bar/.local/lib/python3.6/site-packages/statsmodels/tsa/holtwinters/model.py:1445: RuntimeWarning: divide by zero encountered in log\n",
      "  bic = self.nobs * np.log(sse / self.nobs) + k * np.log(self.nobs)\n"
     ]
    }
   ],
   "source": [
    "trends_dict = utils.trend(tr_dict)\n",
    "trends_dict_new, res_dict = utils.get_trend(tr_dict, True)"
   ]
  },
  {
   "cell_type": "code",
   "execution_count": 148,
   "metadata": {},
   "outputs": [
    {
     "data": {
      "image/png": "[encoded data removed]",
      "text/plain": [
       "<Figure size 720x360 with 2 Axes>"
      ]
     },
     "metadata": {},
     "output_type": "display_data"
    }
   ],
   "source": [
    "i=105123\n",
    "s_test = tr_dict[i]\n",
    "# pred=trends_dict[i]\n",
    "new_trend = trends_dict_new[i]\n",
    "delta=abs(s_test - pred)\n",
    "sns.set(font_scale=1.5)\n",
    "\n",
    "fig, ax = plt.subplots(2,1, figsize=(10,5), gridspec_kw={'height_ratios': [3, 1]})\n",
    "ax[0].plot(range(len(s_test)), s_test, label=\"BP\",color='red');\n",
    "# ax[0].plot(range(len(s_test)), pred, label=\"Original\");\n",
    "ax[0].plot(range(len(s_test)), new_trend, label=\"Holt\", color='green');\n",
    "\n",
    "ax[0].legend(bbox_to_anchor=(1.05, 1), loc='upper left', prop={'size': 12});\n",
    "\n",
    "ax[1].bar(range(len(s_test)), delta, label=\"delta\",color='purple');\n",
    "plt.legend(bbox_to_anchor=(1.05, 1), loc='upper left', prop={'size': 12});\n",
    "fig.tight_layout()"
   ]
  },
  {
   "cell_type": "markdown",
   "metadata": {},
   "source": [
    "# Trend Based Evaluation\n",
    "\n",
    "\n",
    "\\begin{equation}\n",
    "\\begin{split}\n",
    "    W_{g}(y_i)\\cdot |y_i - y^{pred}_i|\\\\\n",
    "    W_{g}(y^{pred}_i)\\cdot |y_i - y^{pred}_i|\n",
    "\\end{split}\n",
    "\\end{equation}\n"
   ]
  },
  {
   "cell_type": "code",
   "execution_count": 191,
   "metadata": {},
   "outputs": [],
   "source": [
    "g_norm_true = utils.get_g_norm(tr_dict, trends_dict_new)\n",
    "\n",
    "# calculate per model\n",
    "g_norm_pred = dict()\n",
    "for model in ['XGBoost', 'Ridge', 'Naive']:\n",
    "    g_norm_pred[model] = utils.get_g_norm(pred_tr_dict[model], trends_dict_new)"
   ]
  },
  {
   "cell_type": "code",
   "execution_count": 115,
   "metadata": {},
   "outputs": [
    {
     "name": "stdout",
     "output_type": "stream",
     "text": [
      "u_max: 1.6043447911875044\n",
      "u_max_pred: 1.6043447911875044\n"
     ]
    }
   ],
   "source": [
    "# Calc Weights\n",
    "\n",
    "# holt_values = [v for k,v in trends_dict.items()]\n",
    "\n",
    "# u_max = max(np.hstack(values))\n",
    "# print(f'u_max: {u_max}')\n",
    "\n",
    "# values = [v for k,v in pred_trends_dict.items()]\n",
    "# u_max_pred = max(np.hstack(values))\n",
    "# print(f'u_max_pred: {u_max_pred}')\n",
    "\n",
    "\n",
    "# calculate weights\n",
    "# weights = {k:v/u_max for k,v in trends_dict.items()}\n",
    "# weights_pred = {k:v/u_max for k,v in pred_trends_dict.items()}"
   ]
  },
  {
   "cell_type": "code",
   "execution_count": 233,
   "metadata": {},
   "outputs": [
    {
     "name": "stdout",
     "output_type": "stream",
     "text": [
      "Ridge\n",
      "missing important: 4.064761909669453\n",
      "false alarm: 10.24157945497766\n",
      "XGBoost\n",
      "missing important: 4.028063470606115\n",
      "false alarm: 8.544473530149297\n",
      "Naive\n",
      "missing important: 4.568612221286754\n",
      "false alarm: 14.648264733195761\n"
     ]
    },
    {
     "name": "stderr",
     "output_type": "stream",
     "text": [
      "/home/bar/PycharmProjects/Toward-Understating-of-Vital-Signs-Models-via-Clinical-Utility/summary/utils.py:142: FutureWarning: arrays to stack must be passed as a \"sequence\" type such as list or tuple. Support for non-sequence iterables such as generators is deprecated as of NumPy 1.16 and will raise an error in the future.\n",
      "  return max(np.hstack(values for values in distance_dict.values()))\n"
     ]
    }
   ],
   "source": [
    "w_trend_pred = dict()\n",
    "for model in ['Ridge', 'XGBoost', 'Naive']:\n",
    "    w_trend_true[model], w_trend_pred[model] = utils.w_trend(tr_dict, pred_tr_dict[model], g_norm_true, g_norm_pred[model],\\\n",
    "                                                             return_true=True, mode='deviaions')\n",
    "\n",
    "model ='XGBoost'\n",
    "\n",
    "# print(f'missing important: {w_trend(un, un_pred, weights)}')\n",
    "# print(f'false alarm: {w_trend(un_pred, un, weights_pred)}')\n",
    "for model in ['Ridge', 'XGBoost', 'Naive']:\n",
    "    print(model)\n",
    "    print(f'missing important: {utils.mean_metric_score(w_trend_true[model], mode=\"deviaions\")}')\n",
    "    print(f'false alarm: {utils.mean_metric_score(w_trend_pred[model], mode=\"deviaions\")}')"
   ]
  },
  {
   "cell_type": "markdown",
   "metadata": {},
   "source": [
    "### Calculate RMSE"
   ]
  },
  {
   "cell_type": "code",
   "execution_count": 207,
   "metadata": {},
   "outputs": [
    {
     "data": {
      "text/plain": [
       "{'Ridge': 16.255241233716614,\n",
       " 'XGBoost': 16.209974,\n",
       " 'Naive': 17.556870085359392}"
      ]
     },
     "execution_count": 207,
     "metadata": {},
     "output_type": "execute_result"
    }
   ],
   "source": [
    "rmses = dict()\n",
    "stds = dict()\n",
    "\n",
    "rmses['Ridge'] = np.sqrt(mean_squared_error(y_test_30['sys_30'], ridge_test_30))\n",
    "rmses['XGBoost'] = np.sqrt(mean_squared_error(y_test_30['sys_30'], xbg_test_30))\n",
    "rmses['Naive'] = np.sqrt(mean_squared_error(y_test_30['sys_30'], utils.de_norm(X['P_sys_q0.5'],'P_sys_q0.5'))) \n",
    "\n",
    "stds['Ridge'] = np.std(ridge_test_30)\n",
    "stds['XGBoost'] = np.std(xbg_test_30)\n",
    "stds['Naive'] = np.std(utils.de_norm(X['P_sys_q0.5'],'P_sys_q0.5'))\n",
    "stds"
   ]
  },
  {
   "cell_type": "markdown",
   "metadata": {},
   "source": [
    "# Report"
   ]
  },
  {
   "cell_type": "code",
   "execution_count": 208,
   "metadata": {},
   "outputs": [],
   "source": [
    "# pref_dict= {'Normal Range Deviation Miss':f_norm_eval(un, un_pred),\\\n",
    "#             'Normal Range Deviation False Alarm':f_norm_eval(un_pred, un),\\\n",
    "#            'Trend Deviation Miss': w_trend(un, un_pred, weights),\\\n",
    "#             'Trend Deviation False Alarm': w_trend(un_pred, un, weights_pred)}\n",
    "\n",
    "\n",
    "pref_dict= {'Model':[],\\\n",
    "            'Normal Range Deviation Miss':[],\\\n",
    "            'Normal Range Deviation False Alarm':[],\\\n",
    "           'Trend Deviation Miss': [],\\\n",
    "            'Trend Deviation False Alarm':[],\\\n",
    "           'RMSE':[], 'Std':[]}\n",
    "\n",
    "for model in ['Ridge', 'XGBoost', 'Naive']:\n",
    "    pref_dict['Model'].append(model)\n",
    "    pref_dict['Normal Range Deviation Miss'].append(utils.f_norm_eval(un, un_pred[model]))\n",
    "    pref_dict['Normal Range Deviation False Alarm'].append(utils.f_norm_eval(un_pred[model], un))\n",
    "    pref_dict['Trend Deviation Miss'].append(utils.mean_metric_score(w_trend_true[model]))\n",
    "    pref_dict['Trend Deviation False Alarm'].append(utils.mean_metric_score(w_trend_pred[model]))\n",
    "    pref_dict['RMSE'].append(rmses[model])\n",
    "    pref_dict['Std'].append(stds[model])"
   ]
  },
  {
   "cell_type": "code",
   "execution_count": 209,
   "metadata": {},
   "outputs": [
    {
     "data": {
      "text/html": [
       "<div>\n",
       "<style scoped>\n",
       "    .dataframe tbody tr th:only-of-type {\n",
       "        vertical-align: middle;\n",
       "    }\n",
       "\n",
       "    .dataframe tbody tr th {\n",
       "        vertical-align: top;\n",
       "    }\n",
       "\n",
       "    .dataframe thead th {\n",
       "        text-align: right;\n",
       "    }\n",
       "</style>\n",
       "<table border=\"1\" class=\"dataframe\">\n",
       "  <thead>\n",
       "    <tr style=\"text-align: right;\">\n",
       "      <th></th>\n",
       "      <th>Model</th>\n",
       "      <th>Normal Range Deviation Miss</th>\n",
       "      <th>Normal Range Deviation False Alarm</th>\n",
       "      <th>Trend Deviation Miss</th>\n",
       "      <th>Trend Deviation False Alarm</th>\n",
       "      <th>RMSE</th>\n",
       "      <th>Std</th>\n",
       "    </tr>\n",
       "  </thead>\n",
       "  <tbody>\n",
       "    <tr>\n",
       "      <th>0</th>\n",
       "      <td>Ridge</td>\n",
       "      <td>0.033</td>\n",
       "      <td>0.013</td>\n",
       "      <td>0.295</td>\n",
       "      <td>0.742</td>\n",
       "      <td>6.208</td>\n",
       "      <td>16.255</td>\n",
       "    </tr>\n",
       "    <tr>\n",
       "      <th>1</th>\n",
       "      <td>XGBoost</td>\n",
       "      <td>0.032</td>\n",
       "      <td>0.013</td>\n",
       "      <td>0.294</td>\n",
       "      <td>0.771</td>\n",
       "      <td>6.203</td>\n",
       "      <td>16.210</td>\n",
       "    </tr>\n",
       "    <tr>\n",
       "      <th>2</th>\n",
       "      <td>Naive</td>\n",
       "      <td>0.024</td>\n",
       "      <td>0.024</td>\n",
       "      <td>0.314</td>\n",
       "      <td>1.082</td>\n",
       "      <td>7.605</td>\n",
       "      <td>17.557</td>\n",
       "    </tr>\n",
       "  </tbody>\n",
       "</table>\n",
       "</div>"
      ],
      "text/plain": [
       "     Model  Normal Range Deviation Miss  Normal Range Deviation False Alarm  \\\n",
       "0    Ridge                        0.033                               0.013   \n",
       "1  XGBoost                        0.032                               0.013   \n",
       "2    Naive                        0.024                               0.024   \n",
       "\n",
       "   Trend Deviation Miss  Trend Deviation False Alarm   RMSE     Std  \n",
       "0                 0.295                        0.742  6.208  16.255  \n",
       "1                 0.294                        0.771  6.203  16.210  \n",
       "2                 0.314                        1.082  7.605  17.557  "
      ]
     },
     "execution_count": 209,
     "metadata": {},
     "output_type": "execute_result"
    }
   ],
   "source": [
    "pd.DataFrame(pref_dict).round(3)"
   ]
  },
  {
   "cell_type": "code",
   "execution_count": 202,
   "metadata": {},
   "outputs": [
    {
     "data": {
      "text/plain": [
       "68.01259379226866"
      ]
     },
     "execution_count": 202,
     "metadata": {},
     "output_type": "execute_result"
    }
   ],
   "source": [
    "weights_true_dict = utils.get_weights(g_norm_true)\n",
    "utils.get_max_distance(g_norm_true)"
   ]
  },
  {
   "cell_type": "code",
   "execution_count": 210,
   "metadata": {},
   "outputs": [
    {
     "data": {
      "text/plain": [
       "{100784: 0.253627421432,\n",
       " 105123: 0.6113032899130503,\n",
       " 107847: 0.08513175193917205,\n",
       " 110571: 0.31380051353782557,\n",
       " 111955: 0.0878331254828129,\n",
       " 112227: 0.09436097378073716,\n",
       " 114856: 0.2950918222719141,\n",
       " 119655: 1.2371901883283507,\n",
       " 119972: 1.0757087847272018,\n",
       " 120433: 0.051278236118574676,\n",
       " 120681: 0.3116537273999812,\n",
       " 124023: 0.5038870286730569,\n",
       " 125190: 0.008372800188402654,\n",
       " 126012: 0.10609094432381813,\n",
       " 128585: 0.09947937801247882,\n",
       " 129707: 0.21082065183520146,\n",
       " 130975: 0.09292899912182115,\n",
       " 133518: 0.010813520360222402,\n",
       " 133810: 0.2472284411117815,\n",
       " 134267: 0.49942658113265526,\n",
       " 134444: 0.16637336726290677,\n",
       " 136328: 0.3131901785930016,\n",
       " 139199: 0.6706009064934416,\n",
       " 139565: 0.051518218919956865,\n",
       " 141690: 1.2088613896211284,\n",
       " 147783: 0.34942364171683776,\n",
       " 147970: 0.4000342063287398,\n",
       " 148571: 0.1367784584700044,\n",
       " 152418: 0.2069355863238914,\n",
       " 153237: 0.4771202443005046,\n",
       " 154984: 0.17616215238940838,\n",
       " 157646: 0.8509417386772341,\n",
       " 160439: 0.18403508475666738,\n",
       " 160781: 0.06376403456593582,\n",
       " 162005: 0.042804764659817446,\n",
       " 162219: 0.28135362492315025,\n",
       " 162411: 0.05376906112989353,\n",
       " 164786: 0.01571026168783141,\n",
       " 165471: 1.1274155908165167,\n",
       " 169708: 0.18456269682323265,\n",
       " 171446: 0.03815315414126721,\n",
       " 171667: 0.5384019943319268,\n",
       " 172124: 0.3351254721292896,\n",
       " 172779: 0.5084626669578564,\n",
       " 176846: 0.01290969856700949,\n",
       " 178205: 0.19628447839993804,\n",
       " 179140: 0.14461618925072042,\n",
       " 180356: 0.19135343475984692,\n",
       " 180542: 0.10114717161929643,\n",
       " 184819: 0.5025449377550633,\n",
       " 185997: 0.9649425144518822,\n",
       " 187089: 0.06919831111252236,\n",
       " 194189: 0.5456620410375043,\n",
       " 195210: 0.04761817980406163,\n",
       " 196132: 0.03573433490469322,\n",
       " 196916: 0.10778167522713496,\n",
       " 197999: 0.40947314148756275}"
      ]
     },
     "execution_count": 210,
     "metadata": {},
     "output_type": "execute_result"
    }
   ],
   "source": [
    "w_trend_true[model]"
   ]
  },
  {
   "cell_type": "code",
   "execution_count": null,
   "metadata": {},
   "outputs": [],
   "source": []
  }
 ],
 "metadata": {
  "kernelspec": {
   "display_name": "Python 3",
   "language": "python",
   "name": "python3"
  },
  "language_info": {
   "codemirror_mode": {
    "name": "ipython",
    "version": 3
   },
   "file_extension": ".py",
   "mimetype": "text/x-python",
   "name": "python",
   "nbconvert_exporter": "python",
   "pygments_lexer": "ipython3",
   "version": "3.6.9"
  },
  "pycharm": {
   "stem_cell": {
    "cell_type": "raw",
    "metadata": {
     "collapsed": false
    },
    "source": []
   }
  }
 },
 "nbformat": 4,
 "nbformat_minor": 4
}
